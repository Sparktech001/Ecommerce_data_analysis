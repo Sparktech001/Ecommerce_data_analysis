{
 "cells": [
  {
   "cell_type": "code",
   "execution_count": 2,
   "id": "52390d8f",
   "metadata": {},
   "outputs": [],
   "source": [
    "import pandas as pd\n",
    "master = pd.read_csv(\"../data/master_dataset.csv\")"
   ]
  },
  {
   "cell_type": "code",
   "execution_count": 11,
   "id": "eab87127",
   "metadata": {},
   "outputs": [
    {
     "name": "stdout",
     "output_type": "stream",
     "text": [
      "     customer_id  customer_lifetime_value\n",
      "0              1                   692985\n",
      "1              2                   693777\n",
      "2              3                   416376\n",
      "3              4                   515838\n",
      "4              5                   301383\n",
      "..           ...                      ...\n",
      "495          496                   669037\n",
      "496          497                   456924\n",
      "497          498                  1229418\n",
      "498          499                   590842\n",
      "499          500                   232971\n",
      "\n",
      "[500 rows x 2 columns]\n"
     ]
    }
   ],
   "source": [
    "#customer lifetime value\n",
    "clv = master.groupby(\"customer_id\")[\"revenue\"].sum().reset_index()\n",
    "clv = clv.rename(columns={\"revenue\": \"customer_lifetime_value\"})\n",
    "\n",
    "print(clv)"
   ]
  },
  {
   "cell_type": "code",
   "execution_count": 7,
   "id": "cb7160c5",
   "metadata": {},
   "outputs": [
    {
     "name": "stdout",
     "output_type": "stream",
     "text": [
      "   product_id  revenue\n",
      "0           1  2898416\n",
      "1           2  3194760\n",
      "2           3  3926754\n",
      "3           4  1516134\n",
      "4           5  2178246\n",
      "      category   revenue\n",
      "0        Books  38913866\n",
      "1  Electronics  56030257\n",
      "2      Fashion  40979433\n",
      "3    Groceries  59987546\n",
      "4         Home  40566464\n",
      "     supplier   revenue\n",
      "0  Supplier A  83066177\n",
      "1  Supplier B  57090443\n",
      "2  Supplier C  80149746\n",
      "3  Supplier D  80265768\n"
     ]
    }
   ],
   "source": [
    "#total revenue by product, category and supplier.\n",
    "\n",
    "revenue_product =   master.groupby(\"product_id\")[\"revenue\"].sum().reset_index()\n",
    "print(revenue_product.head())\n",
    "revenue_category = master.groupby(\"category\")[\"revenue\"].sum().reset_index()\n",
    "print(revenue_category.head())\n",
    "revenue_supplier = master.groupby(\"supplier\")[\"revenue\"].sum().reset_index()\n",
    "print(revenue_supplier.head())\n"
   ]
  },
  {
   "cell_type": "code",
   "execution_count": null,
   "id": "e633942e",
   "metadata": {},
   "outputs": [
    {
     "name": "stdout",
     "output_type": "stream",
     "text": [
      "  year_month  total_revenue\n",
      "0    2021-01        9234338\n",
      "1    2021-02        6890176\n",
      "2    2021-03        8652073\n",
      "3    2021-04        7739719\n",
      "4    2021-05        7378699\n"
     ]
    }
   ],
   "source": [
    "# monthly revenue trend\n",
    "\n",
    "master[\"signup_date\"] = pd.to_datetime(master[\"signup_date\"])\n",
    "master[\"timestamp\"] = pd.to_datetime(master[\"timestamp\"])  # <-- this is needed\n",
    "\n",
    "master[\"year_month\"] = master[\"timestamp\"].dt.to_period(\"M\")\n",
    "\n",
    "monthly_trend = (\n",
    "    master.groupby(\"year_month\")[\"revenue\"]\n",
    "    .sum()\n",
    "    .reset_index()\n",
    "    .rename(columns={\"revenue\": \"total_revenue\"})\n",
    ")\n",
    "\n",
    "print(monthly_trend.head())"
   ]
  }
 ],
 "metadata": {
  "kernelspec": {
   "display_name": "Python 3",
   "language": "python",
   "name": "python3"
  },
  "language_info": {
   "codemirror_mode": {
    "name": "ipython",
    "version": 3
   },
   "file_extension": ".py",
   "mimetype": "text/x-python",
   "name": "python",
   "nbconvert_exporter": "python",
   "pygments_lexer": "ipython3",
   "version": "3.13.2"
  }
 },
 "nbformat": 4,
 "nbformat_minor": 5
}
