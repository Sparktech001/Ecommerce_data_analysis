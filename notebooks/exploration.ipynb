{
 "cells": [
  {
   "cell_type": "code",
   "execution_count": 12,
   "id": "b40d6d78",
   "metadata": {},
   "outputs": [],
   "source": [
    "import pandas as pd\n",
    "\n",
    "product = pd.read_csv(\"../data/products.csv\")\n",
    "customers = pd.read_csv(\"../data/customers.csv\")\n",
    "sales = pd.read_csv(\"../data/sales.csv\")"
   ]
  },
  {
   "cell_type": "code",
   "execution_count": 26,
   "id": "6de9a967",
   "metadata": {},
   "outputs": [
    {
     "name": "stdout",
     "output_type": "stream",
     "text": [
      "\n",
      "Missing values:\n",
      " product_id    0\n",
      "name          0\n",
      "category      0\n",
      "supplier      0\n",
      "price         0\n",
      "dtype: int64\n",
      "\n",
      "Missing values:\n",
      " customer_id    0\n",
      "location       0\n",
      "gender         0\n",
      "signup_date    0\n",
      "dtype: int64\n",
      "\n",
      "Missing values: \n",
      " sale_id        0\n",
      "product_id     0\n",
      "customer_id    0\n",
      "timestamp      0\n",
      "quantity       0\n",
      "price          0\n",
      "revenue        0\n",
      "dtype: int64\n"
     ]
    }
   ],
   "source": [
    "# checking for missing files using is null method\n",
    "print(\"\\nMissing values:\\n\", product.isnull().sum())\n",
    "\n",
    "print(\"\\nMissing values:\\n\", customers.isnull().sum())\n",
    "\n",
    "print(\"\\nMissing values: \\n\", sales.isnull().sum())\n"
   ]
  },
  {
   "cell_type": "code",
   "execution_count": 27,
   "id": "967f9805",
   "metadata": {},
   "outputs": [
    {
     "name": "stdout",
     "output_type": "stream",
     "text": [
      "Columns for product: ['product_id', 'name', 'category', 'supplier', 'price']\n",
      "Columns for sales: ['sale_id', 'product_id', 'customer_id', 'timestamp', 'quantity', 'price', 'revenue']\n",
      "Columns for customers: ['customer_id', 'location', 'gender', 'signup_date']\n"
     ]
    }
   ],
   "source": [
    "#check title of columns\n",
    "\n",
    "print(\"Columns for product:\", product.columns.tolist())\n",
    "print(\"Columns for sales:\", sales.columns.tolist())\n",
    "print(\"Columns for customers:\", customers.columns.tolist())"
   ]
  },
  {
   "cell_type": "code",
   "execution_count": 28,
   "id": "3d4b8bdd",
   "metadata": {},
   "outputs": [
    {
     "name": "stdout",
     "output_type": "stream",
     "text": [
      "Duplicates in product: 0\n",
      "Duplicates in sales: 0\n",
      "Duplicates in customers: 0\n"
     ]
    }
   ],
   "source": [
    "#check for duplicate\n",
    "\n",
    "print(\"Duplicates in product:\", product.duplicated().sum())\n",
    "print(\"Duplicates in sales:\", sales.duplicated().sum())\n",
    "print(\"Duplicates in customers:\", customers.duplicated().sum())"
   ]
  },
  {
   "cell_type": "code",
   "execution_count": 30,
   "id": "82ea83fb",
   "metadata": {},
   "outputs": [],
   "source": [
    "#"
   ]
  }
 ],
 "metadata": {
  "kernelspec": {
   "display_name": "Python 3",
   "language": "python",
   "name": "python3"
  },
  "language_info": {
   "codemirror_mode": {
    "name": "ipython",
    "version": 3
   },
   "file_extension": ".py",
   "mimetype": "text/x-python",
   "name": "python",
   "nbconvert_exporter": "python",
   "pygments_lexer": "ipython3",
   "version": "3.13.2"
  }
 },
 "nbformat": 4,
 "nbformat_minor": 5
}
