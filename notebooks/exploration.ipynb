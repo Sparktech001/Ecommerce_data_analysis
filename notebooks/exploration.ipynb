{
 "cells": [
  {
   "cell_type": "code",
   "execution_count": 12,
   "id": "b40d6d78",
   "metadata": {},
   "outputs": [],
   "source": [
    "import pandas as pd\n",
    "\n",
    "product = pd.read_csv(\"../data/products.csv\")\n",
    "customers = pd.read_csv(\"../data/customers.csv\")\n",
    "sales = pd.read_csv(\"../data/sales.csv\")"
   ]
  },
  {
   "cell_type": "code",
   "execution_count": 16,
   "id": "6de9a967",
   "metadata": {},
   "outputs": [
    {
     "name": "stdout",
     "output_type": "stream",
     "text": [
      "           sale_id  product_id  customer_id     quantity         price  \\\n",
      "count  5000.000000  5000.00000  5000.000000  5000.000000   5000.000000   \n",
      "mean   2500.500000    50.06440   246.434200     2.488400  24332.769800   \n",
      "std    1443.520003    28.63281   143.688746     1.112166  13546.637287   \n",
      "min       1.000000     1.00000     1.000000     1.000000   1507.000000   \n",
      "25%    1250.750000    25.00000   121.000000     2.000000  12245.000000   \n",
      "50%    2500.500000    50.00000   243.500000     2.000000  24150.000000   \n",
      "75%    3750.250000    75.00000   371.000000     3.000000  33839.000000   \n",
      "max    5000.000000   100.00000   500.000000     4.000000  49646.000000   \n",
      "\n",
      "             revenue  \n",
      "count    5000.000000  \n",
      "mean    60114.426800  \n",
      "std     45040.527503  \n",
      "min      1507.000000  \n",
      "25%     24939.000000  \n",
      "50%     47532.000000  \n",
      "75%     89223.000000  \n",
      "max    198584.000000  \n"
     ]
    }
   ],
   "source": [
    "\n",
    "print(sales.describe())"
   ]
  }
 ],
 "metadata": {
  "kernelspec": {
   "display_name": "Python 3",
   "language": "python",
   "name": "python3"
  },
  "language_info": {
   "codemirror_mode": {
    "name": "ipython",
    "version": 3
   },
   "file_extension": ".py",
   "mimetype": "text/x-python",
   "name": "python",
   "nbconvert_exporter": "python",
   "pygments_lexer": "ipython3",
   "version": "3.13.2"
  }
 },
 "nbformat": 4,
 "nbformat_minor": 5
}
