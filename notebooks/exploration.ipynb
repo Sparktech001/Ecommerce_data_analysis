{
 "cells": [
  {
   "cell_type": "code",
   "execution_count": 12,
   "id": "b40d6d78",
   "metadata": {},
   "outputs": [],
   "source": [
    "import pandas as pd\n",
    "\n",
    "product = pd.read_csv(\"../data/products.csv\")\n",
    "customers = pd.read_csv(\"../data/customers.csv\")\n",
    "sales = pd.read_csv(\"../data/sales.csv\")"
   ]
  },
  {
   "cell_type": "code",
   "execution_count": 37,
   "id": "6de9a967",
   "metadata": {},
   "outputs": [
    {
     "name": "stdout",
     "output_type": "stream",
     "text": [
      "\n",
      "Missing values:\n",
      " product_id    0\n",
      "name          0\n",
      "category      0\n",
      "supplier      0\n",
      "price         0\n",
      "dtype: int64\n",
      "\n",
      "Missing values:\n",
      " customer_id    0\n",
      "location       0\n",
      "gender         0\n",
      "signup_date    0\n",
      "dtype: int64\n",
      "\n",
      "Missing values: \n",
      " sale_id        0\n",
      "product_id     0\n",
      "customer_id    0\n",
      "timestamp      0\n",
      "quantity       0\n",
      "price          0\n",
      "revenue        0\n",
      "dtype: int64\n"
     ]
    }
   ],
   "source": [
    "# checking for missing files using is null method\n",
    "print(\"\\nMissing values:\\n\", product.isnull().sum())\n",
    "\n",
    "print(\"\\nMissing values:\\n\", customers.isnull().sum())\n",
    "\n",
    "print(\"\\nMissing values: \\n\", sales.isnull().sum())\n"
   ]
  },
  {
   "cell_type": "code",
   "execution_count": 27,
   "id": "967f9805",
   "metadata": {},
   "outputs": [
    {
     "name": "stdout",
     "output_type": "stream",
     "text": [
      "Columns for product: ['product_id', 'name', 'category', 'supplier', 'price']\n",
      "Columns for sales: ['sale_id', 'product_id', 'customer_id', 'timestamp', 'quantity', 'price', 'revenue']\n",
      "Columns for customers: ['customer_id', 'location', 'gender', 'signup_date']\n"
     ]
    }
   ],
   "source": [
    "#check title of columns\n",
    "\n",
    "print(\"Columns for product:\", product.columns.tolist())\n",
    "print(\"Columns for sales:\", sales.columns.tolist())\n",
    "print(\"Columns for customers:\", customers.columns.tolist())"
   ]
  },
  {
   "cell_type": "code",
   "execution_count": 28,
   "id": "3d4b8bdd",
   "metadata": {},
   "outputs": [
    {
     "name": "stdout",
     "output_type": "stream",
     "text": [
      "Duplicates in product: 0\n",
      "Duplicates in sales: 0\n",
      "Duplicates in customers: 0\n"
     ]
    }
   ],
   "source": [
    "#check for duplicate\n",
    "\n",
    "print(\"Duplicates in product:\", product.duplicated().sum())\n",
    "print(\"Duplicates in sales:\", sales.duplicated().sum())\n",
    "print(\"Duplicates in customers:\", customers.duplicated().sum())"
   ]
  },
  {
   "cell_type": "code",
   "execution_count": null,
   "id": "82ea83fb",
   "metadata": {},
   "outputs": [
    {
     "name": "stdout",
     "output_type": "stream",
     "text": [
      "['Male' 'Female']\n",
      "['Ibadan' 'Port Harcourt' 'Kano' 'Abuja' 'Enugu' 'Lagos']\n",
      "['Supplier A' 'Supplier D' 'Supplier C' 'Supplier B']\n",
      "399\n"
     ]
    }
   ],
   "source": [
    "#checking for standardize format in dates, gender, locations, suppliers_name using uniques method\n",
    "\n",
    "print(customers[\"gender\"].unique())\n",
    "print(customers[\"location\"].unique())\n",
    "print(product[\"supplier\"].unique())\n",
    "print(customers[\"signup_date\"].nunique())\n"
   ]
  },
  {
   "cell_type": "code",
   "execution_count": null,
   "id": "b4c12901",
   "metadata": {},
   "outputs": [
    {
     "name": "stdout",
     "output_type": "stream",
     "text": [
      "Lower quantile for sales : 12245.0, Upper quantile for sales : 33839.0\n",
      "Lower quantile for product : 12390.5, Upper quantile for product : 33943.25\n"
     ]
    }
   ],
   "source": [
    "#detecting outliers\n",
    "\n",
    "Qs1 = sales[\"price\"].quantile(0.25)\n",
    "Qs3 = sales[\"price\"].quantile(0.75)\n",
    "\n",
    "#outliers for sales\n",
    "print(f\"Lower quantile for sales : {Qs1}, Upper quantile for sales : {Qs3}\")\n",
    "\n",
    "Qp1 = product[\"price\"].quantile(0.25)\n",
    "Qp3 = product[\"price\"].quantile(0.75)\n",
    "\n",
    "#outliers for product\n",
    "print(f\"Lower quantile for product : {Qp1}, Upper quantile for product : {Qp3}\")"
   ]
  },
  {
   "cell_type": "code",
   "execution_count": null,
   "id": "478ac4ad",
   "metadata": {},
   "outputs": [],
   "source": [
    "#create a new column  _revenue\n",
    "\n",
    "sales['_revenue'] = sales['price'] * sales['quantity']"
   ]
  },
  {
   "cell_type": "code",
   "execution_count": 82,
   "id": "a9b25c73",
   "metadata": {},
   "outputs": [],
   "source": [
    "#save corrected data to new path\n",
    "\n",
    "sales.to_csv(\"../data/cleaned_sales.csv\", index=False)"
   ]
  },
  {
   "cell_type": "code",
   "execution_count": 96,
   "id": "512348a9",
   "metadata": {},
   "outputs": [
    {
     "name": "stdout",
     "output_type": "stream",
     "text": [
      "   sale_id  product_id  customer_id   timestamp  quantity  price_x  revenue  \\\n",
      "0        1          61           76  2022-12-06         3    29741    89223   \n",
      "1        2          35          495  2022-10-24         2     7991    15982   \n",
      "2        3          64          461  2021-11-06         2    12245    24490   \n",
      "3        4          25          114  2022-05-10         3    33839   101517   \n",
      "4        5          24          111  2021-12-04         3     1935     5805   \n",
      "\n",
      "   _revenue       location  gender signup_date        name     category  \\\n",
      "0     89223  Port Harcourt    Male  2022-01-17  Product_61         Toys   \n",
      "1     15982  Port Harcourt    Male  2021-06-29  Product_35  Electronics   \n",
      "2     24490          Lagos  Female  2020-11-30  Product_64      Fashion   \n",
      "3    101517  Port Harcourt    Male  2022-04-15  Product_25        Books   \n",
      "4      5805           Kano    Male  2022-11-15  Product_24      Fashion   \n",
      "\n",
      "     supplier  price_y  \n",
      "0  Supplier D    29741  \n",
      "1  Supplier A     7991  \n",
      "2  Supplier C    12245  \n",
      "3  Supplier D    33839  \n",
      "4  Supplier B     1935  \n"
     ]
    }
   ],
   "source": [
    "#merge all the data\n",
    "\n",
    "master = (\n",
    "    sales\n",
    "    .merge(customers, on=\"customer_id\", how=\"left\")\n",
    "    .merge(product, on=\"product_id\", how=\"left\")\n",
    ")\n",
    "master.to_csv(\"../data/master_dataset.csv\", index=False)\n",
    "print(master.head())"
   ]
  },
  {
   "cell_type": "code",
   "execution_count": null,
   "id": "a6a17f83",
   "metadata": {},
   "outputs": [
    {
     "name": "stdout",
     "output_type": "stream",
     "text": [
      "     customer_id  customer_lifetime_value\n",
      "0              1                   692985\n",
      "1              2                   693777\n",
      "2              3                   416376\n",
      "3              4                   515838\n",
      "4              5                   301383\n",
      "..           ...                      ...\n",
      "495          496                   669037\n",
      "496          497                   456924\n",
      "497          498                  1229418\n",
      "498          499                   590842\n",
      "499          500                   232971\n",
      "\n",
      "[500 rows x 2 columns]\n"
     ]
    }
   ],
   "source": []
  }
 ],
 "metadata": {
  "kernelspec": {
   "display_name": "Python 3",
   "language": "python",
   "name": "python3"
  },
  "language_info": {
   "codemirror_mode": {
    "name": "ipython",
    "version": 3
   },
   "file_extension": ".py",
   "mimetype": "text/x-python",
   "name": "python",
   "nbconvert_exporter": "python",
   "pygments_lexer": "ipython3",
   "version": "3.13.2"
  }
 },
 "nbformat": 4,
 "nbformat_minor": 5
}
