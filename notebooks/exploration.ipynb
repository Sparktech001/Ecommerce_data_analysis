{
 "cells": [
  {
   "cell_type": "code",
   "execution_count": 12,
   "id": "b40d6d78",
   "metadata": {},
   "outputs": [],
   "source": [
    "import pandas as pd\n",
    "\n",
    "product = pd.read_csv(\"../data/products.csv\")\n",
    "customers = pd.read_csv(\"../data/customers.csv\")\n",
    "sales = pd.read_csv(\"../data/sales.csv\")"
   ]
  },
  {
   "cell_type": "code",
   "execution_count": 37,
   "id": "6de9a967",
   "metadata": {},
   "outputs": [
    {
     "name": "stdout",
     "output_type": "stream",
     "text": [
      "\n",
      "Missing values:\n",
      " product_id    0\n",
      "name          0\n",
      "category      0\n",
      "supplier      0\n",
      "price         0\n",
      "dtype: int64\n",
      "\n",
      "Missing values:\n",
      " customer_id    0\n",
      "location       0\n",
      "gender         0\n",
      "signup_date    0\n",
      "dtype: int64\n",
      "\n",
      "Missing values: \n",
      " sale_id        0\n",
      "product_id     0\n",
      "customer_id    0\n",
      "timestamp      0\n",
      "quantity       0\n",
      "price          0\n",
      "revenue        0\n",
      "dtype: int64\n"
     ]
    }
   ],
   "source": [
    "# checking for missing files using is null method\n",
    "print(\"\\nMissing values:\\n\", product.isnull().sum())\n",
    "\n",
    "print(\"\\nMissing values:\\n\", customers.isnull().sum())\n",
    "\n",
    "print(\"\\nMissing values: \\n\", sales.isnull().sum())\n"
   ]
  },
  {
   "cell_type": "code",
   "execution_count": 27,
   "id": "967f9805",
   "metadata": {},
   "outputs": [
    {
     "name": "stdout",
     "output_type": "stream",
     "text": [
      "Columns for product: ['product_id', 'name', 'category', 'supplier', 'price']\n",
      "Columns for sales: ['sale_id', 'product_id', 'customer_id', 'timestamp', 'quantity', 'price', 'revenue']\n",
      "Columns for customers: ['customer_id', 'location', 'gender', 'signup_date']\n"
     ]
    }
   ],
   "source": [
    "#check title of columns\n",
    "\n",
    "print(\"Columns for product:\", product.columns.tolist())\n",
    "print(\"Columns for sales:\", sales.columns.tolist())\n",
    "print(\"Columns for customers:\", customers.columns.tolist())"
   ]
  },
  {
   "cell_type": "code",
   "execution_count": 28,
   "id": "3d4b8bdd",
   "metadata": {},
   "outputs": [
    {
     "name": "stdout",
     "output_type": "stream",
     "text": [
      "Duplicates in product: 0\n",
      "Duplicates in sales: 0\n",
      "Duplicates in customers: 0\n"
     ]
    }
   ],
   "source": [
    "#check for duplicate\n",
    "\n",
    "print(\"Duplicates in product:\", product.duplicated().sum())\n",
    "print(\"Duplicates in sales:\", sales.duplicated().sum())\n",
    "print(\"Duplicates in customers:\", customers.duplicated().sum())"
   ]
  },
  {
   "cell_type": "code",
   "execution_count": null,
   "id": "82ea83fb",
   "metadata": {},
   "outputs": [
    {
     "name": "stdout",
     "output_type": "stream",
     "text": [
      "['Male' 'Female']\n",
      "['Ibadan' 'Port Harcourt' 'Kano' 'Abuja' 'Enugu' 'Lagos']\n",
      "['Supplier A' 'Supplier D' 'Supplier C' 'Supplier B']\n",
      "399\n"
     ]
    }
   ],
   "source": [
    "#checking for standardize format in dates, gender, locations, suppliers_name using uniques method\n",
    "\n",
    "print(customers[\"gender\"].unique())\n",
    "print(customers[\"location\"].unique())\n",
    "print(product[\"supplier\"].unique())\n",
    "print(customers[\"signup_date\"].nunique())\n"
   ]
  },
  {
   "cell_type": "code",
   "execution_count": null,
   "id": "b4c12901",
   "metadata": {},
   "outputs": [
    {
     "name": "stdout",
     "output_type": "stream",
     "text": [
      "Lower quantile for sales : 12245.0, Upper quantile for sales : 33839.0\n",
      "Lower quantile for product : 12390.5, Upper quantile for product : 33943.25\n"
     ]
    }
   ],
   "source": [
    "#detecting outliers\n",
    "\n",
    "Qs1 = sales[\"price\"].quantile(0.25)\n",
    "Qs3 = sales[\"price\"].quantile(0.75)\n",
    "\n",
    "#outliers for sales\n",
    "print(f\"Lower quantile for sales : {Qs1}, Upper quantile for sales : {Qs3}\")\n",
    "\n",
    "Qp1 = product[\"price\"].quantile(0.25)\n",
    "Qp3 = product[\"price\"].quantile(0.75)\n",
    "\n",
    "#outliers for product\n",
    "print(f\"Lower quantile for product : {Qp1}, Upper quantile for product : {Qp3}\")"
   ]
  },
  {
   "cell_type": "code",
   "execution_count": null,
   "id": "478ac4ad",
   "metadata": {},
   "outputs": [],
   "source": [
    "#create a new column  _revenue\n",
    "\n",
    "sales['_revenue'] = sales['price'] * sales['quantity']"
   ]
  },
  {
   "cell_type": "code",
   "execution_count": 82,
   "id": "a9b25c73",
   "metadata": {},
   "outputs": [],
   "source": [
    "#save corrected data to new path\n",
    "\n",
    "sales.to_csv(\"../data/cleaned_sales.csv\", index=False)"
   ]
  }
 ],
 "metadata": {
  "kernelspec": {
   "display_name": "Python 3",
   "language": "python",
   "name": "python3"
  },
  "language_info": {
   "codemirror_mode": {
    "name": "ipython",
    "version": 3
   },
   "file_extension": ".py",
   "mimetype": "text/x-python",
   "name": "python",
   "nbconvert_exporter": "python",
   "pygments_lexer": "ipython3",
   "version": "3.13.2"
  }
 },
 "nbformat": 4,
 "nbformat_minor": 5
}
